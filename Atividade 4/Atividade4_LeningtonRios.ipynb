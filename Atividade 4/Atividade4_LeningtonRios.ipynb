{
  "nbformat": 4,
  "nbformat_minor": 0,
  "metadata": {
    "colab": {
      "name": "Atividade4_LeningtonRios.ipynb",
      "provenance": [],
      "collapsed_sections": []
    },
    "kernelspec": {
      "display_name": "Python 3",
      "name": "python3"
    }
  },
  "cells": [
    {
      "cell_type": "markdown",
      "metadata": {
        "id": "htMRh9cXqHLW"
      },
      "source": [
        "HeapSort: not in place de complexicade n log(n)"
      ]
    },
    {
      "cell_type": "code",
      "metadata": {
        "id": "VWpdRYhLqEcP"
      },
      "source": [
        "#Adaptado de: https://www.programiz.com/dsa/heap-sort\n",
        "\n",
        "def Heap(A, n, i):\n",
        "  no_maior = i\n",
        "  left = 2*i + 1\n",
        "  right = 2*i + 2\n",
        "\n",
        "  if left < n and A[i] < A[left]:\n",
        "    no_maior = left\n",
        "  \n",
        "  if right < n and A[no_maior] < A[right]:\n",
        "    no_maior = right\n",
        "  \n",
        "  if no_maior != i:\n",
        "    A[i], A[no_maior] = A[no_maior], A[i]\n",
        "    Heap(A, n, no_maior)\n",
        "\n",
        "def HeapSort_NotInPlace(A):\n",
        "  n = len(A)\n",
        "  Q = A\n",
        "\n",
        "  for i in range(n//2, -1, -1):\n",
        "    Heap(Q, n, i)\n",
        "\n",
        "  for i in range(n-1, 0, -1):\n",
        "    Q[i], Q[0] = Q[0], Q[i]\n",
        "    Heap(Q, i, 0)\n",
        "\n",
        "  return Q\n"
      ],
      "execution_count": null,
      "outputs": []
    },
    {
      "cell_type": "code",
      "metadata": {
        "colab": {
          "base_uri": "https://localhost:8080/"
        },
        "id": "BVVQ8-qq_LK1",
        "outputId": "b1323b60-4871-486e-da33-36ad4c235e64"
      },
      "source": [
        "A = [4,3,7,5,9,8,7,8,5,4,1,3,7,8,8,4,10,1,10,10,10,10,0]\n",
        "\n",
        "print(HeapSort_NotInPlace(A))"
      ],
      "execution_count": null,
      "outputs": [
        {
          "output_type": "stream",
          "text": [
            "[0, 1, 1, 3, 3, 4, 4, 4, 5, 5, 7, 7, 7, 8, 8, 8, 8, 9, 10, 10, 10, 10, 10]\n"
          ],
          "name": "stdout"
        }
      ]
    },
    {
      "cell_type": "markdown",
      "metadata": {
        "id": "zoiri934sAmd"
      },
      "source": [
        "HeapSort: in place"
      ]
    },
    {
      "cell_type": "code",
      "metadata": {
        "id": "ZVhEmvCrsBHW"
      },
      "source": [
        "#retorna a posição do filho com maior valor \n",
        "#Vetor A, 'e' é o filho da esquerda e 'd' o da direita\n",
        "def Max2(A,e,d):\n",
        "  print(A[d])\n",
        "  max = A[e]\n",
        "  if (A[d] > max):\n",
        "    max = A[d]\n",
        "    return d\n",
        "  return e\n",
        "\n",
        "#Adaptado\n",
        "def Max(A, n, s, e, d):\n",
        "  max = n\n",
        "  if (e < s and A[n] < A[e]):\n",
        "    max = e\n",
        "  if (d < s and A[max] < A[d]):\n",
        "    max = d\n",
        "  return max\n",
        "\n",
        "def MaxHeapifyRec(A,n,s):\n",
        "  c = Max(A, n, s, n*2 + 2, n*2 + 1)\n",
        "  if (c < s and A[n] < A[c]):\n",
        "    A[n], A[c] = A[c], A[n]\n",
        "    MaxHeapify(A, c, s)\n",
        "\n",
        "def MaxHeapify(A,n,s):\n",
        "  c = Max(A, n, s, n*2 + 2, n*2 + 1)\n",
        "  while (c < s and A[n] < A[c]):\n",
        "    A[n], A[c] = A[c], A[n]\n",
        "    n = c\n",
        "    c = Max(A, n, s, n*2 + 2, n*2 + 1)\n",
        "\n",
        "def BuildMaxHeap(A,s):\n",
        "  for n in range((s-1)//2, -1, -1):\n",
        "    MaxHeapify(A,n,s)\n",
        "\n",
        "def HeapSort_InPlace(A):                                                                                                                                                        \n",
        "  BuildMaxHeap(A, len(A))\n",
        "  for s in range(len(A) -1, 0, -1):\n",
        "    A[0], A[s] = A[s], A[0]\n",
        "    MaxHeapify(A, 0, s)\n",
        "  return A"
      ],
      "execution_count": null,
      "outputs": []
    },
    {
      "cell_type": "code",
      "metadata": {
        "colab": {
          "base_uri": "https://localhost:8080/"
        },
        "id": "59dW1-F4u21e",
        "outputId": "c70be9ed-f72c-476f-c548-e8278fc8f1f7"
      },
      "source": [
        "A = [4,3,7,5,9,8,7,8,5,4,1,3,7,8,8,4,10,1,10,10,10,10,0]\n",
        "print(HeapSort_InPlace(A))\n"
      ],
      "execution_count": null,
      "outputs": [
        {
          "output_type": "stream",
          "text": [
            "[0, 1, 1, 3, 3, 4, 4, 4, 5, 5, 7, 7, 7, 8, 8, 8, 8, 9, 10, 10, 10, 10, 10]\n"
          ],
          "name": "stdout"
        }
      ]
    },
    {
      "cell_type": "markdown",
      "metadata": {
        "id": "yJV_mvJ4WqC5"
      },
      "source": [
        "BucketSort"
      ]
    },
    {
      "cell_type": "code",
      "metadata": {
        "id": "WQwKf3IgWuAv"
      },
      "source": [
        "def BucketSortAdaptado(A):\n",
        "  bucket = []\n",
        "\n",
        "  for i in range(len(A)):\n",
        "    bucket.append([])\n",
        "\n",
        "  for j in A:\n",
        "    bucket[j].append(j)\n",
        "  \n",
        "  print(bucket)\n",
        "  \n",
        "  index = 0\n",
        "  for i in range(len(A)):\n",
        "    for j in range(len(bucket[i])):\n",
        "      A[index] = bucket[i][j]\n",
        "      index = index + 1\n",
        "  \n",
        "  return A\n",
        "\n",
        "def BucketSort(A):\n",
        "  dominio = max(A) + 1\n",
        "  bucket = ['']*dominio #inicializa o bucket com o tamanho do dominio\n",
        "  #array_final = []*len(A)\n",
        "  \n",
        "  for i in A:\n",
        "    if bucket[i] == '':\n",
        "      bucket[i] = 1\n",
        "    else:\n",
        "      bucket[i] = bucket[i] + 1\n",
        "  \n",
        "  #print(\"Bucket: \", bucket)\n",
        "  A = []\n",
        "  for i in range(len(bucket)):\n",
        "    if bucket[i] != '':\n",
        "      size = bucket[i]\n",
        "      while size > 0:\n",
        "        A.append(i)\n",
        "        size = size - 1\n",
        "  return A\n"
      ],
      "execution_count": null,
      "outputs": []
    },
    {
      "cell_type": "code",
      "metadata": {
        "colab": {
          "base_uri": "https://localhost:8080/"
        },
        "id": "oo1-DqwLXRXG",
        "outputId": "ce0a9187-4411-42e8-9bb2-3dfe0df44877"
      },
      "source": [
        "A = [4,3,7,5,9,8,7,8,5,4,1,3,7,8,8,4,10,1,10,10,10,10,0]\n",
        "\n",
        "print(\"Resultado final\", BucketSort(A))\n",
        "#BucketSortAdaptado(A)\n"
      ],
      "execution_count": null,
      "outputs": [
        {
          "output_type": "stream",
          "text": [
            "Bucket:  [1, 2, '', 2, 3, 2, '', 3, 4, 1, 5]\n",
            "Resultado final [0, 1, 1, 3, 3, 4, 4, 4, 5, 5, 7, 7, 7, 8, 8, 8, 8, 9, 10, 10, 10, 10, 10]\n"
          ],
          "name": "stdout"
        }
      ]
    },
    {
      "cell_type": "markdown",
      "metadata": {
        "id": "0WIzOetpT9OO"
      },
      "source": [
        "MergeSort e o QuickSort In Place"
      ]
    },
    {
      "cell_type": "code",
      "metadata": {
        "id": "3Fp6-EZlUCyt"
      },
      "source": [
        "def Merge(D,L,R):\n",
        "  li = 0\n",
        "  ri = 0\n",
        "  i = 0\n",
        "  for i in range(len(D)):\n",
        "    if li >= len(L):\n",
        "      D[i] = R[ri]\n",
        "      ri = ri + 1\n",
        "    elif ri >= len(R):\n",
        "      D[i] = L[li]\n",
        "      li = li + 1\n",
        "    else:\n",
        "      if L[li] < R[ri]:\n",
        "        D[i] = L[li]\n",
        "        li = li + 1\n",
        "      else:\n",
        "        D[i] = R[ri]\n",
        "        ri = ri + 1    \n",
        "\n",
        "def MergeSort(A):\n",
        "  if len(A) > 1:\n",
        "    L = A[0: int(len(A)//2)]\n",
        "    R = A[int(len(A)//2):len(A)]\n",
        "    MergeSort(L)\n",
        "    MergeSort(R)\n",
        "    Merge(A,L,R)\n",
        "  return A\n",
        "\n",
        "def HoarePartition(A,i,j):\n",
        "  l = i\n",
        "  p = j\n",
        "  r = j - 1\n",
        "  while l <= r:\n",
        "    while l <= r and A[l] < A[p]:\n",
        "      l = l + 1\n",
        "    while l <= r and A[r] > A[p]:\n",
        "      r = r - 1\n",
        "    if (l<=r):\n",
        "      A[l], A[r] = A[r],A[l]\n",
        "      l = l + 1\n",
        "      r = r - 1\n",
        "  A[l], A[p] = A[p],A[l]\n",
        "  return l\n",
        "\n",
        "def ChamadaHoare(A,l,j):\n",
        "  if l < j:\n",
        "    m = HoarePartition(A,l,j)\n",
        "    ChamadaHoare(A,l,m-1)\n",
        "    ChamadaHoare(A,m+1,j)\n",
        "  return A\n",
        "\n",
        "def QuickSort(A):\n",
        "   i = 0\n",
        "   j = len(A) - 1\n",
        "   A = ChamadaHoare(A,i,j)\n",
        "   return A\n"
      ],
      "execution_count": null,
      "outputs": []
    },
    {
      "cell_type": "code",
      "metadata": {
        "colab": {
          "base_uri": "https://localhost:8080/"
        },
        "id": "C4-8PN1BVMjm",
        "outputId": "4a75b4fc-a14a-42db-bfcc-3c9d6320c0cf"
      },
      "source": [
        "dataList = [10,1,2,4,3,9]\n",
        "A = dataList.copy()\n",
        "\n",
        "print(MergeSort(A),sorted(dataList))\n",
        "print(QuickSort(A),sorted(dataList))\n",
        "print(HeapSort_NotInPlace(A),sorted(dataList))\n",
        "print(HeapSort_InPlace(A),sorted(dataList))\n",
        "print(BucketSort(A),sorted(dataList))"
      ],
      "execution_count": null,
      "outputs": [
        {
          "output_type": "stream",
          "text": [
            "[1, 2, 3, 4, 9, 10] [1, 2, 3, 4, 9, 10]\n",
            "[1, 2, 3, 4, 9, 10] [1, 2, 3, 4, 9, 10]\n",
            "[1, 2, 3, 4, 9, 10] [1, 2, 3, 4, 9, 10]\n",
            "[1, 2, 3, 4, 9, 10] [1, 2, 3, 4, 9, 10]\n",
            "[1, 2, 3, 4, 9, 10] [1, 2, 3, 4, 9, 10]\n"
          ],
          "name": "stdout"
        }
      ]
    },
    {
      "cell_type": "code",
      "metadata": {
        "id": "EHRzup7RjZRM",
        "colab": {
          "base_uri": "https://localhost:8080/"
        },
        "outputId": "195a4d3f-9a43-48ed-8d19-b1e4a0f650c5"
      },
      "source": [
        "import time\n",
        "from numpy import random\n",
        "DOMAIN = 1000 #quanto menor melhor o BucketSort\n",
        "def avg_time(domain, tam, func, rounds, debug = False):\n",
        "  sum = float(0)\n",
        "  for i in range(rounds):\n",
        "    random.seed(i)\n",
        "    dataList=list(random.randint(domain, size=tam))\n",
        "    L = dataList.copy()\n",
        "    start = time.time()\n",
        "    L = func(L)\n",
        "    end = time.time()\n",
        "    sum+= end-start\n",
        "\n",
        "    if (debug): \n",
        "      #print('-----------------------------------------------------------------------\\n')\n",
        "      #print(func.__name__)\n",
        "      #print(L)\n",
        "      #print(sorted(dataList))\n",
        "      #print('-----------------------------------------------------------------------\\n')\n",
        "      assert L == sorted(dataList)\n",
        "    \n",
        "  return sum/rounds\n",
        "\n",
        "#defines the algorithms to be processed\n",
        "algorithms = [MergeSort, QuickSort, HeapSort_NotInPlace, HeapSort_InPlace, BucketSort]\n",
        "\n",
        "#defines the number of times each algorithm will be processed to find the average time\n",
        "num_rounds = 400\n",
        "\n",
        "\n",
        "sizes = [5000, 10000, 15000, 20000, 25000]\n",
        "\n",
        "mapSizeToTime = dict()\n",
        "for i in range(5):\n",
        "  print(f\"Starting round {i+1}, size={sizes[i]}\")\n",
        "    \n",
        "     \n",
        "  ##Map list size to algorithm average time\n",
        "  for algorithm in algorithms:\n",
        "    mapSizeToTime[f\"{algorithm.__name__ }##{sizes[i]}\"] = avg_time(DOMAIN, sizes[i], algorithm, num_rounds, True)\n",
        "    \n",
        "print(f\"Finish data collection\")"
      ],
      "execution_count": null,
      "outputs": [
        {
          "output_type": "stream",
          "text": [
            "Starting round 1, size=5000\n",
            "Starting round 2, size=10000\n",
            "Starting round 3, size=15000\n",
            "Starting round 4, size=20000\n",
            "Starting round 5, size=25000\n",
            "Finish data collection\n"
          ],
          "name": "stdout"
        }
      ]
    },
    {
      "cell_type": "code",
      "metadata": {
        "id": "dMSl9dFZjamT",
        "colab": {
          "base_uri": "https://localhost:8080/",
          "height": 787
        },
        "outputId": "401ab0fd-ad0d-4427-d064-464f987263b4"
      },
      "source": [
        "import pandas as pd\n",
        "df = pd.DataFrame.from_dict(mapSizeToTime, orient='index',columns=['Time'])\n",
        "df['Algorithm'] = [i.split(\"##\")[0] for i in df.index]\n",
        "df['Size'] = [int(i.split(\"##\")[1]) for i in df.index]\n",
        "df"
      ],
      "execution_count": null,
      "outputs": [
        {
          "output_type": "execute_result",
          "data": {
            "text/html": [
              "<div>\n",
              "<style scoped>\n",
              "    .dataframe tbody tr th:only-of-type {\n",
              "        vertical-align: middle;\n",
              "    }\n",
              "\n",
              "    .dataframe tbody tr th {\n",
              "        vertical-align: top;\n",
              "    }\n",
              "\n",
              "    .dataframe thead th {\n",
              "        text-align: right;\n",
              "    }\n",
              "</style>\n",
              "<table border=\"1\" class=\"dataframe\">\n",
              "  <thead>\n",
              "    <tr style=\"text-align: right;\">\n",
              "      <th></th>\n",
              "      <th>Time</th>\n",
              "      <th>Algorithm</th>\n",
              "      <th>Size</th>\n",
              "    </tr>\n",
              "  </thead>\n",
              "  <tbody>\n",
              "    <tr>\n",
              "      <th>MergeSort##5000</th>\n",
              "      <td>0.028508</td>\n",
              "      <td>MergeSort</td>\n",
              "      <td>5000</td>\n",
              "    </tr>\n",
              "    <tr>\n",
              "      <th>QuickSort##5000</th>\n",
              "      <td>0.014625</td>\n",
              "      <td>QuickSort</td>\n",
              "      <td>5000</td>\n",
              "    </tr>\n",
              "    <tr>\n",
              "      <th>HeapSort_NotInPlace##5000</th>\n",
              "      <td>0.034350</td>\n",
              "      <td>HeapSort_NotInPlace</td>\n",
              "      <td>5000</td>\n",
              "    </tr>\n",
              "    <tr>\n",
              "      <th>HeapSort_InPlace##5000</th>\n",
              "      <td>0.045647</td>\n",
              "      <td>HeapSort_InPlace</td>\n",
              "      <td>5000</td>\n",
              "    </tr>\n",
              "    <tr>\n",
              "      <th>BucketSort##5000</th>\n",
              "      <td>0.001627</td>\n",
              "      <td>BucketSort</td>\n",
              "      <td>5000</td>\n",
              "    </tr>\n",
              "    <tr>\n",
              "      <th>MergeSort##10000</th>\n",
              "      <td>0.061048</td>\n",
              "      <td>MergeSort</td>\n",
              "      <td>10000</td>\n",
              "    </tr>\n",
              "    <tr>\n",
              "      <th>QuickSort##10000</th>\n",
              "      <td>0.031592</td>\n",
              "      <td>QuickSort</td>\n",
              "      <td>10000</td>\n",
              "    </tr>\n",
              "    <tr>\n",
              "      <th>HeapSort_NotInPlace##10000</th>\n",
              "      <td>0.075879</td>\n",
              "      <td>HeapSort_NotInPlace</td>\n",
              "      <td>10000</td>\n",
              "    </tr>\n",
              "    <tr>\n",
              "      <th>HeapSort_InPlace##10000</th>\n",
              "      <td>0.100873</td>\n",
              "      <td>HeapSort_InPlace</td>\n",
              "      <td>10000</td>\n",
              "    </tr>\n",
              "    <tr>\n",
              "      <th>BucketSort##10000</th>\n",
              "      <td>0.003129</td>\n",
              "      <td>BucketSort</td>\n",
              "      <td>10000</td>\n",
              "    </tr>\n",
              "    <tr>\n",
              "      <th>MergeSort##15000</th>\n",
              "      <td>0.094839</td>\n",
              "      <td>MergeSort</td>\n",
              "      <td>15000</td>\n",
              "    </tr>\n",
              "    <tr>\n",
              "      <th>QuickSort##15000</th>\n",
              "      <td>0.050014</td>\n",
              "      <td>QuickSort</td>\n",
              "      <td>15000</td>\n",
              "    </tr>\n",
              "    <tr>\n",
              "      <th>HeapSort_NotInPlace##15000</th>\n",
              "      <td>0.120168</td>\n",
              "      <td>HeapSort_NotInPlace</td>\n",
              "      <td>15000</td>\n",
              "    </tr>\n",
              "    <tr>\n",
              "      <th>HeapSort_InPlace##15000</th>\n",
              "      <td>0.159655</td>\n",
              "      <td>HeapSort_InPlace</td>\n",
              "      <td>15000</td>\n",
              "    </tr>\n",
              "    <tr>\n",
              "      <th>BucketSort##15000</th>\n",
              "      <td>0.004785</td>\n",
              "      <td>BucketSort</td>\n",
              "      <td>15000</td>\n",
              "    </tr>\n",
              "    <tr>\n",
              "      <th>MergeSort##20000</th>\n",
              "      <td>0.130637</td>\n",
              "      <td>MergeSort</td>\n",
              "      <td>20000</td>\n",
              "    </tr>\n",
              "    <tr>\n",
              "      <th>QuickSort##20000</th>\n",
              "      <td>0.069922</td>\n",
              "      <td>QuickSort</td>\n",
              "      <td>20000</td>\n",
              "    </tr>\n",
              "    <tr>\n",
              "      <th>HeapSort_NotInPlace##20000</th>\n",
              "      <td>0.168321</td>\n",
              "      <td>HeapSort_NotInPlace</td>\n",
              "      <td>20000</td>\n",
              "    </tr>\n",
              "    <tr>\n",
              "      <th>HeapSort_InPlace##20000</th>\n",
              "      <td>0.223728</td>\n",
              "      <td>HeapSort_InPlace</td>\n",
              "      <td>20000</td>\n",
              "    </tr>\n",
              "    <tr>\n",
              "      <th>BucketSort##20000</th>\n",
              "      <td>0.006399</td>\n",
              "      <td>BucketSort</td>\n",
              "      <td>20000</td>\n",
              "    </tr>\n",
              "    <tr>\n",
              "      <th>MergeSort##25000</th>\n",
              "      <td>0.167556</td>\n",
              "      <td>MergeSort</td>\n",
              "      <td>25000</td>\n",
              "    </tr>\n",
              "    <tr>\n",
              "      <th>QuickSort##25000</th>\n",
              "      <td>0.090178</td>\n",
              "      <td>QuickSort</td>\n",
              "      <td>25000</td>\n",
              "    </tr>\n",
              "    <tr>\n",
              "      <th>HeapSort_NotInPlace##25000</th>\n",
              "      <td>0.217403</td>\n",
              "      <td>HeapSort_NotInPlace</td>\n",
              "      <td>25000</td>\n",
              "    </tr>\n",
              "    <tr>\n",
              "      <th>HeapSort_InPlace##25000</th>\n",
              "      <td>0.288654</td>\n",
              "      <td>HeapSort_InPlace</td>\n",
              "      <td>25000</td>\n",
              "    </tr>\n",
              "    <tr>\n",
              "      <th>BucketSort##25000</th>\n",
              "      <td>0.008036</td>\n",
              "      <td>BucketSort</td>\n",
              "      <td>25000</td>\n",
              "    </tr>\n",
              "  </tbody>\n",
              "</table>\n",
              "</div>"
            ],
            "text/plain": [
              "                                Time            Algorithm   Size\n",
              "MergeSort##5000             0.028508            MergeSort   5000\n",
              "QuickSort##5000             0.014625            QuickSort   5000\n",
              "HeapSort_NotInPlace##5000   0.034350  HeapSort_NotInPlace   5000\n",
              "HeapSort_InPlace##5000      0.045647     HeapSort_InPlace   5000\n",
              "BucketSort##5000            0.001627           BucketSort   5000\n",
              "MergeSort##10000            0.061048            MergeSort  10000\n",
              "QuickSort##10000            0.031592            QuickSort  10000\n",
              "HeapSort_NotInPlace##10000  0.075879  HeapSort_NotInPlace  10000\n",
              "HeapSort_InPlace##10000     0.100873     HeapSort_InPlace  10000\n",
              "BucketSort##10000           0.003129           BucketSort  10000\n",
              "MergeSort##15000            0.094839            MergeSort  15000\n",
              "QuickSort##15000            0.050014            QuickSort  15000\n",
              "HeapSort_NotInPlace##15000  0.120168  HeapSort_NotInPlace  15000\n",
              "HeapSort_InPlace##15000     0.159655     HeapSort_InPlace  15000\n",
              "BucketSort##15000           0.004785           BucketSort  15000\n",
              "MergeSort##20000            0.130637            MergeSort  20000\n",
              "QuickSort##20000            0.069922            QuickSort  20000\n",
              "HeapSort_NotInPlace##20000  0.168321  HeapSort_NotInPlace  20000\n",
              "HeapSort_InPlace##20000     0.223728     HeapSort_InPlace  20000\n",
              "BucketSort##20000           0.006399           BucketSort  20000\n",
              "MergeSort##25000            0.167556            MergeSort  25000\n",
              "QuickSort##25000            0.090178            QuickSort  25000\n",
              "HeapSort_NotInPlace##25000  0.217403  HeapSort_NotInPlace  25000\n",
              "HeapSort_InPlace##25000     0.288654     HeapSort_InPlace  25000\n",
              "BucketSort##25000           0.008036           BucketSort  25000"
            ]
          },
          "metadata": {
            "tags": []
          },
          "execution_count": 24
        }
      ]
    },
    {
      "cell_type": "code",
      "metadata": {
        "id": "bILg4ENAjgl8",
        "colab": {
          "base_uri": "https://localhost:8080/",
          "height": 642
        },
        "outputId": "64733768-bb36-42a0-d79c-0842b95ff22e"
      },
      "source": [
        "import seaborn as sns\n",
        "%matplotlib inline\n",
        "import matplotlib.pyplot as plt\n",
        "\n",
        "##Defines font size and line width\n",
        "sns.set(font_scale=1, style=\"ticks\", rc={\"lines.linewidth\": 2})\n",
        "\n",
        "##Defines plot size\n",
        "plt.rcParams['figure.figsize'] = [20, 10]\n",
        "\n",
        "g = sns.lineplot(x='Size', y='Time', hue='Algorithm', data=df)\n",
        "#g.set_yscale('log')\n",
        "#fig = plt.figure()\n",
        "plt.title(\"DOMAIN = 1000 \\nnum_rounds = 400\")\n",
        "g.set(xticks=[i for i in df.Size])\n",
        "plt.show()"
      ],
      "execution_count": null,
      "outputs": [
        {
          "output_type": "display_data",
          "data": {
            "image/png": "[encoded data removed]",
            "text/plain": [
              "<Figure size 1440x720 with 1 Axes>"
            ]
          },
          "metadata": {
            "tags": []
          }
        }
      ]
    },
    {
      "cell_type": "markdown",
      "metadata": {
        "id": "ymArxXuNI3XZ"
      },
      "source": [
        "Segundo teste:"
      ]
    },
    {
      "cell_type": "code",
      "metadata": {
        "colab": {
          "base_uri": "https://localhost:8080/",
          "height": 787
        },
        "id": "dLY6UVt2GB-w",
        "outputId": "d743dde5-813c-497d-b6a4-eac97ae3f7be"
      },
      "source": [
        "import pandas as pd\n",
        "df = pd.DataFrame.from_dict(mapSizeToTime, orient='index',columns=['Time'])\n",
        "df['Algorithm'] = [i.split(\"##\")[0] for i in df.index]\n",
        "df['Size'] = [int(i.split(\"##\")[1]) for i in df.index]\n",
        "df"
      ],
      "execution_count": null,
      "outputs": [
        {
          "output_type": "execute_result",
          "data": {
            "text/html": [
              "<div>\n",
              "<style scoped>\n",
              "    .dataframe tbody tr th:only-of-type {\n",
              "        vertical-align: middle;\n",
              "    }\n",
              "\n",
              "    .dataframe tbody tr th {\n",
              "        vertical-align: top;\n",
              "    }\n",
              "\n",
              "    .dataframe thead th {\n",
              "        text-align: right;\n",
              "    }\n",
              "</style>\n",
              "<table border=\"1\" class=\"dataframe\">\n",
              "  <thead>\n",
              "    <tr style=\"text-align: right;\">\n",
              "      <th></th>\n",
              "      <th>Time</th>\n",
              "      <th>Algorithm</th>\n",
              "      <th>Size</th>\n",
              "    </tr>\n",
              "  </thead>\n",
              "  <tbody>\n",
              "    <tr>\n",
              "      <th>MergeSort##5000</th>\n",
              "      <td>0.030926</td>\n",
              "      <td>MergeSort</td>\n",
              "      <td>5000</td>\n",
              "    </tr>\n",
              "    <tr>\n",
              "      <th>QuickSort##5000</th>\n",
              "      <td>0.016007</td>\n",
              "      <td>QuickSort</td>\n",
              "      <td>5000</td>\n",
              "    </tr>\n",
              "    <tr>\n",
              "      <th>HeapSort_NotInPlace##5000</th>\n",
              "      <td>0.036908</td>\n",
              "      <td>HeapSort_NotInPlace</td>\n",
              "      <td>5000</td>\n",
              "    </tr>\n",
              "    <tr>\n",
              "      <th>HeapSort_InPlace##5000</th>\n",
              "      <td>0.043831</td>\n",
              "      <td>HeapSort_InPlace</td>\n",
              "      <td>5000</td>\n",
              "    </tr>\n",
              "    <tr>\n",
              "      <th>BucketSort##5000</th>\n",
              "      <td>0.001812</td>\n",
              "      <td>BucketSort</td>\n",
              "      <td>5000</td>\n",
              "    </tr>\n",
              "    <tr>\n",
              "      <th>MergeSort##10000</th>\n",
              "      <td>0.066874</td>\n",
              "      <td>MergeSort</td>\n",
              "      <td>10000</td>\n",
              "    </tr>\n",
              "    <tr>\n",
              "      <th>QuickSort##10000</th>\n",
              "      <td>0.035320</td>\n",
              "      <td>QuickSort</td>\n",
              "      <td>10000</td>\n",
              "    </tr>\n",
              "    <tr>\n",
              "      <th>HeapSort_NotInPlace##10000</th>\n",
              "      <td>0.080097</td>\n",
              "      <td>HeapSort_NotInPlace</td>\n",
              "      <td>10000</td>\n",
              "    </tr>\n",
              "    <tr>\n",
              "      <th>HeapSort_InPlace##10000</th>\n",
              "      <td>0.096398</td>\n",
              "      <td>HeapSort_InPlace</td>\n",
              "      <td>10000</td>\n",
              "    </tr>\n",
              "    <tr>\n",
              "      <th>BucketSort##10000</th>\n",
              "      <td>0.003646</td>\n",
              "      <td>BucketSort</td>\n",
              "      <td>10000</td>\n",
              "    </tr>\n",
              "    <tr>\n",
              "      <th>MergeSort##15000</th>\n",
              "      <td>0.101749</td>\n",
              "      <td>MergeSort</td>\n",
              "      <td>15000</td>\n",
              "    </tr>\n",
              "    <tr>\n",
              "      <th>QuickSort##15000</th>\n",
              "      <td>0.055153</td>\n",
              "      <td>QuickSort</td>\n",
              "      <td>15000</td>\n",
              "    </tr>\n",
              "    <tr>\n",
              "      <th>HeapSort_NotInPlace##15000</th>\n",
              "      <td>0.130988</td>\n",
              "      <td>HeapSort_NotInPlace</td>\n",
              "      <td>15000</td>\n",
              "    </tr>\n",
              "    <tr>\n",
              "      <th>HeapSort_InPlace##15000</th>\n",
              "      <td>0.152776</td>\n",
              "      <td>HeapSort_InPlace</td>\n",
              "      <td>15000</td>\n",
              "    </tr>\n",
              "    <tr>\n",
              "      <th>BucketSort##15000</th>\n",
              "      <td>0.005237</td>\n",
              "      <td>BucketSort</td>\n",
              "      <td>15000</td>\n",
              "    </tr>\n",
              "    <tr>\n",
              "      <th>MergeSort##20000</th>\n",
              "      <td>0.138974</td>\n",
              "      <td>MergeSort</td>\n",
              "      <td>20000</td>\n",
              "    </tr>\n",
              "    <tr>\n",
              "      <th>QuickSort##20000</th>\n",
              "      <td>0.076288</td>\n",
              "      <td>QuickSort</td>\n",
              "      <td>20000</td>\n",
              "    </tr>\n",
              "    <tr>\n",
              "      <th>HeapSort_NotInPlace##20000</th>\n",
              "      <td>0.179149</td>\n",
              "      <td>HeapSort_NotInPlace</td>\n",
              "      <td>20000</td>\n",
              "    </tr>\n",
              "    <tr>\n",
              "      <th>HeapSort_InPlace##20000</th>\n",
              "      <td>0.213372</td>\n",
              "      <td>HeapSort_InPlace</td>\n",
              "      <td>20000</td>\n",
              "    </tr>\n",
              "    <tr>\n",
              "      <th>BucketSort##20000</th>\n",
              "      <td>0.007014</td>\n",
              "      <td>BucketSort</td>\n",
              "      <td>20000</td>\n",
              "    </tr>\n",
              "    <tr>\n",
              "      <th>MergeSort##25000</th>\n",
              "      <td>0.179913</td>\n",
              "      <td>MergeSort</td>\n",
              "      <td>25000</td>\n",
              "    </tr>\n",
              "    <tr>\n",
              "      <th>QuickSort##25000</th>\n",
              "      <td>0.097227</td>\n",
              "      <td>QuickSort</td>\n",
              "      <td>25000</td>\n",
              "    </tr>\n",
              "    <tr>\n",
              "      <th>HeapSort_NotInPlace##25000</th>\n",
              "      <td>0.230072</td>\n",
              "      <td>HeapSort_NotInPlace</td>\n",
              "      <td>25000</td>\n",
              "    </tr>\n",
              "    <tr>\n",
              "      <th>HeapSort_InPlace##25000</th>\n",
              "      <td>0.271559</td>\n",
              "      <td>HeapSort_InPlace</td>\n",
              "      <td>25000</td>\n",
              "    </tr>\n",
              "    <tr>\n",
              "      <th>BucketSort##25000</th>\n",
              "      <td>0.008802</td>\n",
              "      <td>BucketSort</td>\n",
              "      <td>25000</td>\n",
              "    </tr>\n",
              "  </tbody>\n",
              "</table>\n",
              "</div>"
            ],
            "text/plain": [
              "                                Time            Algorithm   Size\n",
              "MergeSort##5000             0.030926            MergeSort   5000\n",
              "QuickSort##5000             0.016007            QuickSort   5000\n",
              "HeapSort_NotInPlace##5000   0.036908  HeapSort_NotInPlace   5000\n",
              "HeapSort_InPlace##5000      0.043831     HeapSort_InPlace   5000\n",
              "BucketSort##5000            0.001812           BucketSort   5000\n",
              "MergeSort##10000            0.066874            MergeSort  10000\n",
              "QuickSort##10000            0.035320            QuickSort  10000\n",
              "HeapSort_NotInPlace##10000  0.080097  HeapSort_NotInPlace  10000\n",
              "HeapSort_InPlace##10000     0.096398     HeapSort_InPlace  10000\n",
              "BucketSort##10000           0.003646           BucketSort  10000\n",
              "MergeSort##15000            0.101749            MergeSort  15000\n",
              "QuickSort##15000            0.055153            QuickSort  15000\n",
              "HeapSort_NotInPlace##15000  0.130988  HeapSort_NotInPlace  15000\n",
              "HeapSort_InPlace##15000     0.152776     HeapSort_InPlace  15000\n",
              "BucketSort##15000           0.005237           BucketSort  15000\n",
              "MergeSort##20000            0.138974            MergeSort  20000\n",
              "QuickSort##20000            0.076288            QuickSort  20000\n",
              "HeapSort_NotInPlace##20000  0.179149  HeapSort_NotInPlace  20000\n",
              "HeapSort_InPlace##20000     0.213372     HeapSort_InPlace  20000\n",
              "BucketSort##20000           0.007014           BucketSort  20000\n",
              "MergeSort##25000            0.179913            MergeSort  25000\n",
              "QuickSort##25000            0.097227            QuickSort  25000\n",
              "HeapSort_NotInPlace##25000  0.230072  HeapSort_NotInPlace  25000\n",
              "HeapSort_InPlace##25000     0.271559     HeapSort_InPlace  25000\n",
              "BucketSort##25000           0.008802           BucketSort  25000"
            ]
          },
          "metadata": {
            "tags": []
          },
          "execution_count": 8
        }
      ]
    },
    {
      "cell_type": "code",
      "metadata": {
        "colab": {
          "base_uri": "https://localhost:8080/",
          "height": 611
        },
        "id": "aVgwWlnTGDAA",
        "outputId": "c8146a42-4d17-47cb-d4dd-d319f64b3382"
      },
      "source": [
        "import seaborn as sns\n",
        "%matplotlib inline\n",
        "import matplotlib.pyplot as plt\n",
        "\n",
        "##Defines font size and line width\n",
        "sns.set(font_scale=1, style=\"ticks\", rc={\"lines.linewidth\": 2})\n",
        "\n",
        "##Defines plot size\n",
        "plt.rcParams['figure.figsize'] = [20, 10]\n",
        "\n",
        "g = sns.lineplot(x='Size', y='Time', hue='Algorithm', data=df)\n",
        "g.set_yscale('log')\n",
        "#fig = plt.figure()\n",
        "g.set(xticks=[i for i in df.Size])\n",
        "plt.show()"
      ],
      "execution_count": null,
      "outputs": [
        {
          "output_type": "display_data",
          "data": {
            "image/png": "[encoded data removed]",
            "text/plain": [
              "<Figure size 1440x720 with 1 Axes>"
            ]
          },
          "metadata": {
            "tags": []
          }
        }
      ]
    }
  ]
}